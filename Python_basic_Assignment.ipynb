{
  "nbformat": 4,
  "nbformat_minor": 0,
  "metadata": {
    "colab": {
      "provenance": []
    },
    "kernelspec": {
      "name": "python3",
      "display_name": "Python 3"
    },
    "language_info": {
      "name": "python"
    }
  },
  "cells": [
    {
      "cell_type": "code",
      "execution_count": null,
      "metadata": {
        "id": "aiCjYUZL9rII"
      },
      "outputs": [],
      "source": []
    },
    {
      "cell_type": "markdown",
      "source": [
        "1**.What is Python, and why is it popular** ?\n",
        " -Python is a high-level, interpreted programming language known for being simple, versatile, and beginner-friendly.\n",
        "\n",
        " why pthon is popular:\n",
        "   1.Readable and simpel syntax\n",
        "   2.versatility\n",
        "   3.Huge Community & Libraries\n",
        "   4.Great for Rapid Development\n",
        "\n",
        "2.** What is an interpreter in Python **?\n",
        "  -An interpreter is a program that executes Python code line by line, translating it into machine-readable instructions that the computer can run.\n",
        "\n",
        "3.**What are pre-defined keywords in Python **?\n",
        "  - pre-defined keywords  are reserved words that have special meaning to the Python interpreter.\n",
        "\n",
        "4. **Can keywords be used as variable names**?\n",
        "  -keywords cannot be used as variable names.\n",
        "\n",
        "5**.What is mutability in Python** ?\n",
        "  -Mutability refers to whether or not the value of an object can be changed after it is created.\n",
        "\n",
        "6.**Why are lists mutable, but tuples are immutable **?\n",
        "     List are mutable because Lists are meant for collections of data that can grow and change.\n",
        "     tuples are immutable because Tuples are designed for fixed collections of\n",
        "     items\n",
        "\n",
        "7.**What is the difference between “==” and “is” operators in Python** ?\n",
        "  -== (Equality operator)>> Compares values of two objects.\n",
        "  -is (Identity operator) >>Compares memory addresses.\n",
        "\n",
        "8.**What are logical operators in Python**?\n",
        "  -Logical operators are used to combine conditional statements.\n",
        "\n",
        "9.**What is type casting in Python** ?\n",
        " -Type casting means converting one data type into another.\n",
        "\n",
        "10.**What is the difference between implicit and explicit type casting**?\n",
        "   -Implicit Type Casting means automatically converted\n",
        "   -Explicit Type Casting means manually by the programmer using constructor functions like int(), float(), str(), etc.\n",
        "\n",
        "11.**What is the purpose of conditional statements in Python** ?   \n",
        "   -The purpose of conditional statements is to let a program make decisions and execute different blocks of code depending on conditions.\n",
        "12. **How does the elif statement work**?\n",
        "   -It’s used after an if statement to check another condition if the previous one was False.\n",
        "\n",
        "13.**What is the difference between for and while loops**?\n",
        "   -for loops used how many times you want to run the loop\n",
        "   -while loop don’t know in advance how many times to run the loop\n",
        "   .You need to update the condition manually, otherwise it can become an infinite loop.\n",
        "14.Describe a scenario where a while loop is more suitable than a for loop?\n",
        "  -like ATM machine\n",
        "  -Game Loop\n",
        "  \n",
        "\n",
        "\n",
        "\n",
        "\n",
        "\n",
        "     \n",
        "  \n"
      ],
      "metadata": {
        "id": "mB6FTdDq9xud"
      }
    },
    {
      "cell_type": "code",
      "source": [
        "#Write a Python program to print \"Hello, World!\n",
        "print(\"hello world\")"
      ],
      "metadata": {
        "colab": {
          "base_uri": "https://localhost:8080/"
        },
        "id": "jetL6vK9Fa-P",
        "outputId": "19178471-ce97-42a3-bb96-8faa21e11832"
      },
      "execution_count": 1,
      "outputs": [
        {
          "output_type": "stream",
          "name": "stdout",
          "text": [
            "hello world\n"
          ]
        }
      ]
    },
    {
      "cell_type": "code",
      "source": [
        "#Write a Python program that displays your name and age\n",
        "name = \"Rashmi\"\n",
        "age =21\n",
        "\n",
        "print(\"My name is\", name)\n",
        "print(\"I am\", age, \"years old\")"
      ],
      "metadata": {
        "colab": {
          "base_uri": "https://localhost:8080/"
        },
        "id": "V41s9u8qFnMD",
        "outputId": "7de7bc50-89ad-458c-a416-ec71e988ee57"
      },
      "execution_count": 2,
      "outputs": [
        {
          "output_type": "stream",
          "name": "stdout",
          "text": [
            "My name is Rashmi\n",
            "I am 21 years old\n"
          ]
        }
      ]
    },
    {
      "cell_type": "code",
      "source": [
        "#Write code to print all the pre-defined keywords in Python using the keyword library\n",
        "import keyword\n",
        "keywords_list = keyword.kwlist\n",
        "\n",
        "print(\"Python Keywords:\")\n",
        "for kw in keywords_list:\n",
        "    print(kw)"
      ],
      "metadata": {
        "colab": {
          "base_uri": "https://localhost:8080/"
        },
        "id": "zjhgpevmGnxK",
        "outputId": "aeb55550-a81c-4297-8d98-c66da6f6d72b"
      },
      "execution_count": 3,
      "outputs": [
        {
          "output_type": "stream",
          "name": "stdout",
          "text": [
            "Python Keywords:\n",
            "False\n",
            "None\n",
            "True\n",
            "and\n",
            "as\n",
            "assert\n",
            "async\n",
            "await\n",
            "break\n",
            "class\n",
            "continue\n",
            "def\n",
            "del\n",
            "elif\n",
            "else\n",
            "except\n",
            "finally\n",
            "for\n",
            "from\n",
            "global\n",
            "if\n",
            "import\n",
            "in\n",
            "is\n",
            "lambda\n",
            "nonlocal\n",
            "not\n",
            "or\n",
            "pass\n",
            "raise\n",
            "return\n",
            "try\n",
            "while\n",
            "with\n",
            "yield\n"
          ]
        }
      ]
    },
    {
      "cell_type": "code",
      "source": [
        "#Write a program that checks if a given word is a Python keyword\n",
        "import keyword\n",
        "word = input(\"Enter a word: \")\n",
        "if keyword.iskeyword(word):\n",
        "    print(f\" '{word}' is a Python keyword.\")\n",
        "else:\n",
        "    print(f\" '{word}' is NOT a Python keyword.\")\n"
      ],
      "metadata": {
        "colab": {
          "base_uri": "https://localhost:8080/"
        },
        "id": "nDR37ypwG9wb",
        "outputId": "01311ed4-c4c3-451c-aca0-24c3b2e76ab7"
      },
      "execution_count": 4,
      "outputs": [
        {
          "output_type": "stream",
          "name": "stdout",
          "text": [
            "Enter a word: for\n",
            " 'for' is a Python keyword.\n"
          ]
        }
      ]
    },
    {
      "cell_type": "code",
      "source": [
        "#Create a list and tuple in Python, and demonstrate how attempting to change an element works differently for each.\n",
        "my_list = [10, 20, 30]\n",
        "print(\"Original list:\", my_list)\n",
        "\n",
        "\n",
        "my_list[1] = 99\n",
        "print(\"Modified list:\", my_list)\n",
        "\n",
        "my_tuple = (10, 20, 30)\n",
        "print(\"\\nOriginal tuple:\", my_tuple)\n",
        "\n",
        "try:\n",
        "    my_tuple[1] = 99\n",
        "except TypeError as e:\n",
        "    print(\"Error when modifying tuple:\", e)\n",
        "\n",
        "\n"
      ],
      "metadata": {
        "colab": {
          "base_uri": "https://localhost:8080/"
        },
        "id": "PoIDFYlkG9t1",
        "outputId": "1276148f-8f33-47cc-893d-6d8b3525d1f7"
      },
      "execution_count": 6,
      "outputs": [
        {
          "output_type": "stream",
          "name": "stdout",
          "text": [
            "Original list: [10, 20, 30]\n",
            "Modified list: [10, 99, 30]\n",
            "\n",
            "Original tuple: (10, 20, 30)\n",
            "Error when modifying tuple: 'tuple' object does not support item assignment\n"
          ]
        }
      ]
    },
    {
      "cell_type": "code",
      "source": [
        "# Write a function to demonstrate the behavior of mutable and immutable arguments.\n",
        "# Function to modify a mutable object (list)\n",
        "def modify_list(lst):\n",
        "    lst.append(100)\n",
        "    print(\"Inside function (list):\", lst)\n",
        "\n",
        "# Function to modify an immutable object (integer)\n",
        "def modify_int(x):\n",
        "    x += 100\n",
        "    print(\"Inside function (int):\", x)\n",
        "\n",
        "\n",
        "# Test with a mutable object\n",
        "my_list = [1, 2, 3]\n",
        "print(\"Original list:\", my_list)\n",
        "modify_list(my_list)\n",
        "print(\"After function call (list):\", my_list)  # list is changed\n",
        "\n",
        "\n",
        "print(\"\\n--------------------\\n\")\n",
        "\n",
        "# Test with an immutable object\n",
        "my_int = 50\n",
        "print(\"Original int:\", my_int)\n",
        "modify_int(my_int)\n",
        "print(\"After function call (int):\", my_int)  # int is unchanged\n"
      ],
      "metadata": {
        "colab": {
          "base_uri": "https://localhost:8080/"
        },
        "id": "68-OUQ9pKBp7",
        "outputId": "ffdb5e22-00ae-4abf-cd2e-2b10fe860b88"
      },
      "execution_count": 7,
      "outputs": [
        {
          "output_type": "stream",
          "name": "stdout",
          "text": [
            "Original list: [1, 2, 3]\n",
            "Inside function (list): [1, 2, 3, 100]\n",
            "After function call (list): [1, 2, 3, 100]\n",
            "\n",
            "--------------------\n",
            "\n",
            "Original int: 50\n",
            "Inside function (int): 150\n",
            "After function call (int): 50\n"
          ]
        }
      ]
    },
    {
      "cell_type": "code",
      "source": [
        "#Write a program to demonstrate the use of logical operators.\n",
        "# Demonstrating logical operators in Python\n",
        "\n",
        "# Sample values\n",
        "a = 10\n",
        "b = 5\n",
        "c = 0\n",
        "\n",
        "print(\"a =\", a, \"b =\", b, \"c =\", c)\n",
        "\n",
        "# AND operator\n",
        "print(\"\\nUsing 'and' operator:\")\n",
        "print(\"a > 0 and b > 0:\", a > 0 and b > 0)\n",
        "print(\"a > 0 and c > 0:\", a > 0 and c > 0)\n",
        "\n",
        "# OR operator\n",
        "print(\"\\nUsing 'or' operator:\")\n",
        "print(\"a > 0 or c > 0:\", a > 0 or c > 0)\n",
        "print(\"b < 0 or c > 0:\", b < 0 or c > 0)\n",
        "\n",
        "# NOT operator\n",
        "print(\"\\nUsing 'not' operator:\")\n",
        "print(\"not(a > 0):\", not(a > 0))\n",
        "print(\"not(c > 0):\", not(c > 0))\n"
      ],
      "metadata": {
        "colab": {
          "base_uri": "https://localhost:8080/"
        },
        "id": "hdfV9k8LKto9",
        "outputId": "fbfaa901-83ce-4ea4-f0b4-2f4655a33cd5"
      },
      "execution_count": 8,
      "outputs": [
        {
          "output_type": "stream",
          "name": "stdout",
          "text": [
            "a = 10 b = 5 c = 0\n",
            "\n",
            "Using 'and' operator:\n",
            "a > 0 and b > 0: True\n",
            "a > 0 and c > 0: False\n",
            "\n",
            "Using 'or' operator:\n",
            "a > 0 or c > 0: True\n",
            "b < 0 or c > 0: False\n",
            "\n",
            "Using 'not' operator:\n",
            "not(a > 0): False\n",
            "not(c > 0): True\n"
          ]
        }
      ]
    },
    {
      "cell_type": "code",
      "source": [
        "# Write a Python program to convert user input from string to integer, float, and boolean types0\n",
        "# Take input from user\n",
        "user_input = input(\"Enter any number: \")\n",
        "\n",
        "# Convert to integer\n",
        "try:\n",
        "    int_value = int(user_input)\n",
        "    print(\"Integer:\", int_value)\n",
        "except ValueError:\n",
        "    print(\"Cannot convert to integer\")\n",
        "\n",
        "# Convert to float\n",
        "try:\n",
        "    float_value = float(user_input)\n",
        "    print(\"Float:\", float_value)\n",
        "except ValueError:\n",
        "    print(\"Cannot convert to float\")\n",
        "\n",
        "# Convert to boolean\n",
        "bool_value = bool(user_input)\n",
        "print(\"Boolean:\", bool_value)\n"
      ],
      "metadata": {
        "colab": {
          "base_uri": "https://localhost:8080/"
        },
        "id": "4Mw16Qb0Ktl0",
        "outputId": "5ee5056f-5bd6-49a4-c92b-73eb2459c788"
      },
      "execution_count": 9,
      "outputs": [
        {
          "output_type": "stream",
          "name": "stdout",
          "text": [
            "Enter any number: 4\n",
            "Integer: 4\n",
            "Float: 4.0\n",
            "Boolean: True\n"
          ]
        }
      ]
    },
    {
      "cell_type": "code",
      "source": [
        "#Write code to demonstrate type casting with list elements\n",
        "\n",
        "# Original list with string numbers\n",
        "str_list = [\"10\", \"20\", \"30\", \"40\"]\n",
        "print(\" list (strings):\", str_list)\n",
        "\n",
        "# Convert each element to integer\n",
        "int_list = [int(x) for x in str_list]\n",
        "print(\"Converted to integers:\", int_list)\n",
        "\n",
        "# Convert each element to float\n",
        "float_list = [float(x) for x in str_list]\n",
        "print(\"Converted to floats:\", float_list)\n",
        "\n",
        "# Convert each element to boolean\n",
        "bool_list = [bool(int(x)) for x in str_list]\n",
        "print(\"Converted to booleans:\", bool_list)\n"
      ],
      "metadata": {
        "colab": {
          "base_uri": "https://localhost:8080/"
        },
        "id": "tTb5S2zCLTBq",
        "outputId": "c5658988-a6c1-4256-da54-bf549736e808"
      },
      "execution_count": 10,
      "outputs": [
        {
          "output_type": "stream",
          "name": "stdout",
          "text": [
            " list (strings): ['10', '20', '30', '40']\n",
            "Converted to integers: [10, 20, 30, 40]\n",
            "Converted to floats: [10.0, 20.0, 30.0, 40.0]\n",
            "Converted to booleans: [True, True, True, True]\n"
          ]
        }
      ]
    },
    {
      "cell_type": "code",
      "source": [
        "# Write a program that checks if a number is positive, negative, or zero.\n",
        "\n",
        "num = float(input(\"Enter a number: \"))\n",
        "\n",
        "if num > 0:\n",
        "    print(\"The number is positive.\")\n",
        "elif num < 0:\n",
        "    print(\"The number is negative.\")\n",
        "else:\n",
        "    print(\"The number is zero.\")\n"
      ],
      "metadata": {
        "colab": {
          "base_uri": "https://localhost:8080/"
        },
        "id": "_AzdExOsLS_T",
        "outputId": "744bb6cc-d4c6-429e-ee29-a197b1e3ec5d"
      },
      "execution_count": 11,
      "outputs": [
        {
          "output_type": "stream",
          "name": "stdout",
          "text": [
            "Enter a number: 6\n",
            "The number is positive.\n"
          ]
        }
      ]
    },
    {
      "cell_type": "code",
      "source": [
        "# Write a for loop to print numbers from 1 to 10.\n",
        "for i in range(1, 11):\n",
        "    print(i)\n"
      ],
      "metadata": {
        "colab": {
          "base_uri": "https://localhost:8080/"
        },
        "id": "7zmDPQv2NH2k",
        "outputId": "ec31e88f-c2b0-4888-b5cb-e08af2e3ebdc"
      },
      "execution_count": 12,
      "outputs": [
        {
          "output_type": "stream",
          "name": "stdout",
          "text": [
            "1\n",
            "2\n",
            "3\n",
            "4\n",
            "5\n",
            "6\n",
            "7\n",
            "8\n",
            "9\n",
            "10\n"
          ]
        }
      ]
    },
    {
      "cell_type": "code",
      "source": [
        "#Write a Python program to find the sum of all even numbers between 1 and 50.\n",
        "\n",
        "total = 0\n",
        "\n",
        "for num in range(1, 51):\n",
        "    if num % 2 == 0:\n",
        "        total += num\n",
        "print(\"Sum of all even numbers from 1 to 50 is:\", total)\n",
        "\n",
        "\n"
      ],
      "metadata": {
        "colab": {
          "base_uri": "https://localhost:8080/"
        },
        "id": "0QJSd3exNYYc",
        "outputId": "96da83ac-cc9f-45c5-a916-f9b8ebd86109"
      },
      "execution_count": 13,
      "outputs": [
        {
          "output_type": "stream",
          "name": "stdout",
          "text": [
            "Sum of all even numbers from 1 to 50 is: 650\n"
          ]
        }
      ]
    },
    {
      "cell_type": "code",
      "source": [
        "#Write a program to reverse a string using a while loop.\n",
        "\n",
        "original_str = input(\"Enter a string: \")\n",
        "\n",
        "\n",
        "reversed_str = \"\"\n",
        "index = len(original_str) - 1\n",
        "\n",
        "\n",
        "while index >= 0:\n",
        "    reversed_str += original_str[index]\n",
        "    index -= 1\n",
        "\n",
        "print(\"Reversed string:\", reversed_str)\n"
      ],
      "metadata": {
        "colab": {
          "base_uri": "https://localhost:8080/"
        },
        "id": "Pp72NKg8NYQs",
        "outputId": "e7c7c790-6701-47b9-e21a-b60c9d29483d"
      },
      "execution_count": 14,
      "outputs": [
        {
          "output_type": "stream",
          "name": "stdout",
          "text": [
            "Enter a string: rashmi\n",
            "Reversed string: imhsar\n"
          ]
        }
      ]
    },
    {
      "cell_type": "code",
      "source": [
        "#Write a Python program to calculate the factorial of a number provided by the user using a while loop.\n",
        "\n",
        "num = int(input(\"Enter a non-negative integer: \"))\n",
        "\n",
        "factorial = 1\n",
        "i = 1\n",
        "while i <= num:\n",
        "    factorial *= i\n",
        "    i += 1\n",
        "\n",
        "print(f\"Factorial of {num} is: {factorial}\")\n"
      ],
      "metadata": {
        "id": "SQTvMNgnOGg9"
      },
      "execution_count": null,
      "outputs": []
    }
  ]
}